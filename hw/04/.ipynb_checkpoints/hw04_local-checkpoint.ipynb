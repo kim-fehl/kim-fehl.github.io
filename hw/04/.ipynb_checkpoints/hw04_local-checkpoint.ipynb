{
 "cells": [
  {
   "cell_type": "markdown",
   "metadata": {},
   "source": [
    "# Домашнее задание 4\n",
    "**Выполнил: Ким Адамейко, группа мАДБМ16**"
   ]
  },
  {
   "cell_type": "code",
   "execution_count": 17,
   "metadata": {},
   "outputs": [
    {
     "name": "stdout",
     "output_type": "stream",
     "text": [
      "2017-12-28 14:12:03 URL:http://kodomo.fbb.msu.ru/~golovin/ipynb/npy2cube.py [2229/2229] -> \"npy2cube.py.4\" [1]\r\n"
     ]
    }
   ],
   "source": [
    "! wget -nv http://kodomo.fbb.msu.ru/~golovin/ipynb/npy2cube.py\n",
    "from npy2cube import *"
   ]
  },
  {
   "cell_type": "code",
   "execution_count": null,
   "metadata": {},
   "outputs": [
    {
     "name": "stdout",
     "output_type": "stream",
     "text": [
      " PyMOL(TM) Molecular Graphics System, Version 1.9.0.0.\n",
      " Copyright (c) Schrodinger, LLC.\n",
      " All Rights Reserved.\n",
      " \n",
      "    Created by Warren L. DeLano, Ph.D. \n",
      " \n",
      "    PyMOL is user-supported open-source software.  Although some versions\n",
      "    are freely available, PyMOL is not in the public domain.\n",
      " \n",
      "    If PyMOL is helpful in your work or study, then please volunteer \n",
      "    support for our ongoing efforts to create open and affordable scientific\n",
      "    software by purchasing a PyMOL Maintenance and/or Support subscription.\n",
      "\n",
      "    More information can be found at \"http://www.pymol.org\".\n",
      " \n",
      "    Enter \"help\" for a list of commands.\n",
      "    Enter \"help <command-name>\" for information on a specific command.\n",
      "\n",
      " Hit ESC anytime to toggle between text and graphics.\n",
      "\n",
      " Detected OpenGL version 2.0 or greater. Shaders available.\n",
      " Detected GLSL version 1.30.\n",
      " OpenGL graphics engine:\n",
      "  GL_VENDOR:   Intel Open Source Technology Center\n",
      "  GL_RENDERER: Mesa DRI Intel(R) HD Graphics 530 (Skylake GT2) \n",
      "  GL_VERSION:  3.0 Mesa 17.0.7\n",
      "Traceback (most recent call last):\n",
      "  File \"/home/kim/anaconda/envs/py2/lib/python2.7/site-packages/pymol/__init__.py\", line 383, in launch_gui\n",
      "    __import__(self.invocation.options.gui)\n",
      "  File \"/home/kim/anaconda/envs/py2/lib/python2.7/site-packages/pmg_tk/__init__.py\", line 22, in <module>\n",
      "    from .PMGApp import *\n",
      "  File \"/home/kim/anaconda/envs/py2/lib/python2.7/site-packages/pmg_tk/PMGApp.py\", line 22, in <module>\n",
      "    import Pmw\n",
      "ImportError: No module named Pmw\n",
      " Detected 8 CPU cores.  Enabled multithreaded rendering.\n"
     ]
    }
   ],
   "source": [
    "import time\n",
    "import __main__\n",
    "import os\n",
    "\n",
    "! pymol -R\n",
    "time.sleep(3)\n",
    "\n",
    "from xmlrpc.client import ServerProxy\n",
    "cmd = ServerProxy(uri=\"http://localhost:9123/RPC2\")\n",
    "cmd.do(\"cd \" + os.getcwd())\n",
    "\n",
    "from IPython.display import Image, display, HTML\n",
    "from __future__ import print_function"
   ]
  },
  {
   "cell_type": "code",
   "execution_count": 19,
   "metadata": {
    "collapsed": true
   },
   "outputs": [],
   "source": [
    "import numpy as np\n",
    "import scipy.special\n",
    "import scipy.misc\n",
    "\n",
    "import __main__\n",
    "import pymol\n",
    "__main__.pymol_argv = [ 'pymol', '-cp' ]\n",
    "pymol.finish_launching()\n",
    "from pymol import cmd\n",
    "\n",
    "from __future__ import division, print_function"
   ]
  },
  {
   "cell_type": "markdown",
   "metadata": {},
   "source": [
    "## Часть 1. Волновая функция\n",
    "\n",
    "$ \\psi_{n\\,l\\,m}(r,\\vartheta, \\varphi) = \\sqrt{\\left(\\dfrac{2}{n a_{0}}\\right)^{\\!\\!3} \\dfrac{(n-l-1)!}{2n\\cdot(n+l)!}}\\  e^{-\\frac{p}{2}}\\ p^{l}\\ L^{2l+1}_{n-l-1}(p)\\ Y^{m}_{l}(\\vartheta, \\varphi),$ где:\n",
    "\n",
    "$L^{2l+1}_{n-l-1}(p) -$ обобщенный полином Лагерра степени $n-l-1;$\n",
    "\n",
    "$ Y^{m}_{l}(\\vartheta, \\varphi) -$ сферическая гармоника;\n",
    "\n",
    "$p = \\dfrac{2r}{na_{0}} -$ \n",
    "\n",
    "$n, l, m\\ - $ основные квантовые числа\n",
    "* $n$ – основное число $(1,2,3, \\dots)$\n",
    "* $l$ – орбитальное число $(0,1,2,\\dots n-1)$\n",
    "* $m$ – магнитное число $(-l, \\dots, +l)$"
   ]
  },
  {
   "cell_type": "code",
   "execution_count": 7,
   "metadata": {
    "collapsed": true
   },
   "outputs": [],
   "source": [
    "def w(n, l, m, d):\n",
    "    \n",
    "    # Неразреженный 3D массив точек, величина компл.ч. (30j) задаёт число точек между границами (такой синтаксис)\n",
    "    x,y,z = np.mgrid[-d:d:30j, -d:d:30j, -d:d:30j]\n",
    "    \n",
    "    # Переход к сферическим координатам\n",
    "    r     = lambda x,y,z:  np.sqrt(x**2+y**2+z**2)\n",
    "    theta = lambda x,y,z:  np.arccos(z/r(x,y,z))\n",
    "    phi   = lambda x,y,z:  np.arctan(y/x)\n",
    "    \n",
    "    a0 = 1.0\n",
    "    \n",
    "    # Радиальная часть волновой функции\n",
    "    R     = lambda r,n,l:  (2.0*r/n/a0)**l * np.exp(-r/n/a0) * scipy.special.genlaguerre(n-l-1,2*l+1)(2.0*r/n/a0)\n",
    "    # Умножение радиальной части на угловую\n",
    "    WF    = lambda r,theta,phi,n,l,m:  R(r,n,l) * scipy.special.sph_harm(m,l,phi,theta)\n",
    "    # Абсолютное значение волновой функции (плотность вероятности нахождения электрона в конкретном состоянии)\n",
    "    absWF = lambda r,theta,phi,n,l,m:  np.absolute(WF(r,theta,phi,n,l,m))**2\n",
    "    \n",
    "    return WF(r(x,y,z), theta(x,y,z), phi(x,y,z), n, l, m)"
   ]
  },
  {
   "cell_type": "code",
   "execution_count": 13,
   "metadata": {},
   "outputs": [
    {
     "name": "stderr",
     "output_type": "stream",
     "text": [
      "npy2cube.py:39: ComplexWarning: Casting complex values to real discards the imaginary part\n",
      "  cube_file.write(\"%f \" %(float(grid[x, y, z])))\n",
      "npy2cube.py:42: ComplexWarning: Casting complex values to real discards the imaginary part\n",
      "  cube_file.write(\"%f\\n\" %(float(grid[x, y, z])))\n"
     ]
    },
    {
     "name": "stdout",
     "output_type": "stream",
     "text": [
      "1-0-0.cube  2-1-0.cube\t3-0-0.cube  3-1-1.cube\t3-2-1.cube\r\n",
      "2-0-0.cube  2-1-1.cube\t3-1-0.cube  3-2-0.cube\t3-2-2.cube\r\n"
     ]
    }
   ],
   "source": [
    "d = 15\n",
    "step= 2*d/(2*d-1)\n",
    "cdir = './cube/'\n",
    "! mkdir -p {cdir}\n",
    "for n in range(1, 4):\n",
    "    for l in range(0, n):\n",
    "        for m in range(0, l+1):\n",
    "            data = w(n, l, m, d)\n",
    "            filename = '%s%d-%d-%d.cube' % (cdir, n, l, m)\n",
    "            npy2cube(data, (-d,-d, -d), (step,step,step), filename) # парам: коорд. \"самого отриц.точки\" куба и шаг\n",
    "\n",
    "!ls {cdir}"
   ]
  },
  {
   "cell_type": "code",
   "execution_count": 15,
   "metadata": {
    "scrolled": true
   },
   "outputs": [
    {
     "name": "stdout",
     "output_type": "stream",
     "text": [
      " CPMD CUBE FILE.\r\n",
      "OUTER LOOP: X, MIDDLE LOOP: Y, INNER LOOP: Z\r\n",
      "    1 -28.345892 -28.345892 -28.345892\r\n",
      "  30    1.889726   0.000000     0.000000\r\n",
      "  30    0.000000    1.889726    0.000000\r\n",
      "  30    0.000000    0.000000    1.889726\r\n",
      "    1    0.000000    -28.345892 -28.345892 -28.345892\r\n",
      "0.000000 0.000000 0.000000 0.000000 0.000000 0.000000\r\n",
      "0.000000 0.000000 0.000000 0.000000 0.000000 0.000000\r\n",
      "0.000000 0.000000 0.000000 0.000000 0.000000 0.000000\r\n"
     ]
    }
   ],
   "source": [
    "!head {cdir}1-0-0.cube"
   ]
  },
  {
   "cell_type": "code",
   "execution_count": 20,
   "metadata": {
    "collapsed": true
   },
   "outputs": [],
   "source": [
    "cmd.reinitialize()\n",
    "pml='''\n",
    "cmd.volume_ramp_new('ramp1-0-0', [\\\n",
    "      0.00, 0.00, 0.00, 1.00, 0.00, \\\n",
    "      0.00, 0.00, 1.00, 1.00, 0.08, \\\n",
    "      0.00, 0.00, 0.00, 1.00, 0.00, \\\n",
    "    ])\n",
    "\n",
    "cmd.volume_ramp_new('ramp2-0-0', [\\\n",
    "     -0.05, 0.00, 0.00, 1.00, 0.00, \\\n",
    "     -0.04, 0.00, 1.00, 1.00, 0.05, \\\n",
    "     -0.04, 0.00, 0.00, 1.00, 0.00, \\\n",
    "    ])\n",
    "\n",
    "cmd.volume_ramp_new('ramp2-1-0', [\\\n",
    "      0.03, 0.00, 0.00, 1.00, 0.00, \\\n",
    "      0.03, 0.00, 1.00, 1.00, 0.10, \\\n",
    "      0.04, 0.00, 0.00, 1.00, 0.00, \\\n",
    "    ])\n",
    "\n",
    "cmd.volume_ramp_new('ramp2-1-1', [\\\n",
    "     -0.02, 0.00, 0.00, 1.00, 0.00, \\\n",
    "     -0.01, 0.00, 1.00, 1.00, 0.04, \\\n",
    "     -0.01, 0.00, 0.00, 1.00, 0.00, \\\n",
    "    ])\n",
    "\n",
    "cmd.volume_ramp_new('ramp3-0-0', [\\\n",
    "     -0.07, 0.00, 0.00, 1.00, 0.00, \\\n",
    "     -0.03, 0.00, 1.00, 1.00, 0.04, \\\n",
    "     -0.02, 0.00, 0.00, 1.00, 0.00, \\\n",
    "    ])\n",
    "\n",
    "cmd.volume_ramp_new('ramp3-1-0', [\\\n",
    "      0.12, 0.00, 0.00, 1.00, 0.00, \\\n",
    "      0.15, 0.00, 1.00, 1.00, 0.05, \\\n",
    "      0.17, 0.00, 0.00, 1.00, 0.00, \\\n",
    "    ])\n",
    "\n",
    "\n",
    "cmd.volume_ramp_new('ramp3-1-1', [\\\n",
    "      0.12, 0.00, 0.00, 1.00, 0.00, \\\n",
    "      0.12, 0.00, 1.00, 1.00, 0.07, \\\n",
    "      0.13, 0.00, 0.00, 1.00, 0.00, \\\n",
    "    ])\n",
    "\n",
    "cmd.volume_ramp_new('ramp3-2-0', [\\\n",
    "      0.32, 0.00, 0.00, 1.00, 0.00, \\\n",
    "      0.35, 0.00, 1.00, 1.00, 0.04, \\\n",
    "      0.49, 0.00, 0.00, 1.00, 0.00, \\\n",
    "    ])\n",
    "\n",
    "cmd.volume_ramp_new('ramp3-2-1', [\\\n",
    "      0.20, 0.00, 0.00, 1.00, 0.00, \\\n",
    "      0.25, 0.00, 1.00, 1.00, 0.09, \\\n",
    "      0.26, 0.00, 0.00, 1.00, 0.00, \\\n",
    "    ])\n",
    "\n",
    "cmd.volume_ramp_new('ramp3-2-2', [\\\n",
    "      0.17, 0.00, 0.00, 1.00, 0.00, \\\n",
    "      0.17, 0.00, 1.00, 1.00, 0.03, \\\n",
    "      0.27, 0.00, 0.00, 1.00, 0.00, \\\n",
    "    ])\n",
    "'''\n",
    "cmd.do(pml)"
   ]
  },
  {
   "cell_type": "code",
   "execution_count": 28,
   "metadata": {},
   "outputs": [
    {
     "data": {
      "text/plain": [
       "'/home/shad/hse/adameyko/strbioinf/04'"
      ]
     },
     "execution_count": 28,
     "metadata": {},
     "output_type": "execute_result"
    }
   ],
   "source": [
    "os.getcwd()"
   ]
  },
  {
   "cell_type": "code",
   "execution_count": 29,
   "metadata": {
    "collapsed": true
   },
   "outputs": [],
   "source": [
    "path = os.getcwd()\n",
    "pymol_actions_1 = lambda x: cmd.do('''\n",
    "    load {1}/cube/{0}.cube, {0}\n",
    "    volume {0}_volume, {0}\n",
    "    volume_color {0}_volume, ramp{0}\n",
    "    pseudoatom foo, pos=[0, 12, 0],label=\"{0}\"\n",
    "    set label_color, 0xc3b8ff, foo\n",
    "    set label_size, -2.5, foo\n",
    "'''.format(x, path))\n",
    "pymol_actions_2 = lambda x: cmd.do('''  \n",
    "    png {1}/cube/{0}.png, dpi=300, width=10cm\n",
    "    '''.format(x, path))\n",
    "pymol_actions_3 = lambda:cmd.do('delete all')"
   ]
  },
  {
   "cell_type": "code",
   "execution_count": 30,
   "metadata": {
    "collapsed": true
   },
   "outputs": [],
   "source": [
    "cmd.reinitialize()\n",
    "for i in os.listdir('./cube/'):\n",
    "    pymol_actions_1(i.split('.cube')[0])\n",
    "#     raw_input(\"Press Enter to continue...\")\n",
    "    pymol_actions_2(i.split('.cube')[0])\n",
    "    pymol_actions_3()\n",
    "print('Finish')"
   ]
  },
  {
   "cell_type": "code",
   "execution_count": 33,
   "metadata": {
    "collapsed": true
   },
   "outputs": [],
   "source": [
    "! ls "
   ]
  },
  {
   "cell_type": "markdown",
   "metadata": {},
   "source": [
    "## Источники \n",
    "\n",
    "* [Wave function: Hydrogen atom -- Wikipedia](https://en.wikipedia.org/wiki/Wave_function#Hydrogen_atom)\n",
    "* [Volume color -- PymolWiki](https://pymolwiki.org/index.php/Volume_color)"
   ]
  },
  {
   "cell_type": "code",
   "execution_count": null,
   "metadata": {
    "collapsed": true
   },
   "outputs": [],
   "source": [
    "%%time\n",
    "from math import sqrt\n",
    "res = [sqrt(i ** 2) for i in range(1000000)]"
   ]
  },
  {
   "cell_type": "code",
   "execution_count": null,
   "metadata": {
    "collapsed": true
   },
   "outputs": [],
   "source": [
    "from joblib import Parallel, delayed"
   ]
  },
  {
   "cell_type": "code",
   "execution_count": null,
   "metadata": {},
   "outputs": [
    {
     "name": "stderr",
     "output_type": "stream",
     "text": [
      "[Parallel(n_jobs=8)]: Done  16 tasks      | elapsed:    0.0s\n",
      "[Parallel(n_jobs=8)]: Done 15016 tasks      | elapsed:    0.7s\n",
      "[Parallel(n_jobs=8)]: Done 30016 tasks      | elapsed:    1.6s\n",
      "[Parallel(n_jobs=8)]: Done 55016 tasks      | elapsed:    2.9s\n",
      "[Parallel(n_jobs=8)]: Done 80016 tasks      | elapsed:    4.2s\n",
      "[Parallel(n_jobs=8)]: Done 115016 tasks      | elapsed:    5.8s\n",
      "[Parallel(n_jobs=8)]: Done 150016 tasks      | elapsed:    7.6s\n",
      "[Parallel(n_jobs=8)]: Done 195016 tasks      | elapsed:    9.8s\n",
      "[Parallel(n_jobs=8)]: Done 240016 tasks      | elapsed:   12.1s\n",
      "Process PoolWorker-24:\n",
      "Process PoolWorker-26:\n",
      "Process PoolWorker-23:\n",
      "Process PoolWorker-22:\n",
      "Process PoolWorker-21:\n",
      "Process PoolWorker-25:\n",
      "Process PoolWorker-28:\n",
      "Process PoolWorker-27:\n",
      "Traceback (most recent call last):\n",
      "Traceback (most recent call last):\n",
      "Traceback (most recent call last):\n",
      "Traceback (most recent call last):\n",
      "Traceback (most recent call last):\n",
      "Traceback (most recent call last):\n",
      "Traceback (most recent call last):\n",
      "Traceback (most recent call last):\n",
      "  File \"/home/shad/miniconda2/envs/hse/lib/python2.7/multiprocessing/process.py\", line 267, in _bootstrap\n",
      "  File \"/home/shad/miniconda2/envs/hse/lib/python2.7/multiprocessing/process.py\", line 267, in _bootstrap\n",
      "  File \"/home/shad/miniconda2/envs/hse/lib/python2.7/multiprocessing/process.py\", line 267, in _bootstrap\n",
      "  File \"/home/shad/miniconda2/envs/hse/lib/python2.7/multiprocessing/process.py\", line 267, in _bootstrap\n",
      "  File \"/home/shad/miniconda2/envs/hse/lib/python2.7/multiprocessing/process.py\", line 267, in _bootstrap\n",
      "  File \"/home/shad/miniconda2/envs/hse/lib/python2.7/multiprocessing/process.py\", line 267, in _bootstrap\n",
      "  File \"/home/shad/miniconda2/envs/hse/lib/python2.7/multiprocessing/process.py\", line 267, in _bootstrap\n",
      "  File \"/home/shad/miniconda2/envs/hse/lib/python2.7/multiprocessing/process.py\", line 267, in _bootstrap\n",
      "    self.run()\n",
      "    self.run()\n",
      "    self.run()\n",
      "    self.run()\n",
      "    self.run()\n",
      "  File \"/home/shad/miniconda2/envs/hse/lib/python2.7/multiprocessing/process.py\", line 114, in run\n",
      "    self.run()\n",
      "    self.run()\n",
      "  File \"/home/shad/miniconda2/envs/hse/lib/python2.7/multiprocessing/process.py\", line 114, in run\n",
      "  File \"/home/shad/miniconda2/envs/hse/lib/python2.7/multiprocessing/process.py\", line 114, in run\n",
      "    self.run()\n",
      "  File \"/home/shad/miniconda2/envs/hse/lib/python2.7/multiprocessing/process.py\", line 114, in run\n",
      "  File \"/home/shad/miniconda2/envs/hse/lib/python2.7/multiprocessing/process.py\", line 114, in run\n",
      "  File \"/home/shad/miniconda2/envs/hse/lib/python2.7/multiprocessing/process.py\", line 114, in run\n",
      "  File \"/home/shad/miniconda2/envs/hse/lib/python2.7/multiprocessing/process.py\", line 114, in run\n",
      "    self._target(*self._args, **self._kwargs)\n",
      "    self._target(*self._args, **self._kwargs)\n",
      "  File \"/home/shad/miniconda2/envs/hse/lib/python2.7/multiprocessing/process.py\", line 114, in run\n",
      "    self._target(*self._args, **self._kwargs)\n",
      "    self._target(*self._args, **self._kwargs)\n",
      "    self._target(*self._args, **self._kwargs)\n",
      "  File \"/home/shad/miniconda2/envs/hse/lib/python2.7/multiprocessing/pool.py\", line 102, in worker\n",
      "  File \"/home/shad/miniconda2/envs/hse/lib/python2.7/multiprocessing/pool.py\", line 102, in worker\n",
      "    self._target(*self._args, **self._kwargs)\n",
      "  File \"/home/shad/miniconda2/envs/hse/lib/python2.7/multiprocessing/pool.py\", line 102, in worker\n",
      "    self._target(*self._args, **self._kwargs)\n",
      "    self._target(*self._args, **self._kwargs)\n",
      "  File \"/home/shad/miniconda2/envs/hse/lib/python2.7/multiprocessing/pool.py\", line 102, in worker\n",
      "  File \"/home/shad/miniconda2/envs/hse/lib/python2.7/multiprocessing/pool.py\", line 102, in worker\n",
      "  File \"/home/shad/miniconda2/envs/hse/lib/python2.7/multiprocessing/pool.py\", line 102, in worker\n",
      "  File \"/home/shad/miniconda2/envs/hse/lib/python2.7/multiprocessing/pool.py\", line 102, in worker\n",
      "  File \"/home/shad/miniconda2/envs/hse/lib/python2.7/multiprocessing/pool.py\", line 102, in worker\n",
      "    task = get()\n",
      "    task = get()\n",
      "    task = get()\n",
      "    task = get()\n",
      "    task = get()\n",
      "  File \"/home/shad/miniconda2/envs/hse/lib/python2.7/site-packages/joblib/pool.py\", line 360, in get\n",
      "    task = get()\n",
      "  File \"/home/shad/miniconda2/envs/hse/lib/python2.7/site-packages/joblib/pool.py\", line 360, in get\n",
      "  File \"/home/shad/miniconda2/envs/hse/lib/python2.7/site-packages/joblib/pool.py\", line 360, in get\n",
      "    task = get()\n",
      "    task = get()\n",
      "  File \"/home/shad/miniconda2/envs/hse/lib/python2.7/site-packages/joblib/pool.py\", line 360, in get\n",
      "  File \"/home/shad/miniconda2/envs/hse/lib/python2.7/site-packages/joblib/pool.py\", line 360, in get\n",
      "  File \"/home/shad/miniconda2/envs/hse/lib/python2.7/site-packages/joblib/pool.py\", line 360, in get\n",
      "  File \"/home/shad/miniconda2/envs/hse/lib/python2.7/site-packages/joblib/pool.py\", line 360, in get\n",
      "  File \"/home/shad/miniconda2/envs/hse/lib/python2.7/site-packages/joblib/pool.py\", line 362, in get\n",
      "    racquire()\n",
      "    racquire()\n",
      "    racquire()\n",
      "    racquire()\n",
      "    racquire()\n",
      "KeyboardInterrupt\n",
      "KeyboardInterrupt\n",
      "KeyboardInterrupt\n",
      "    return recv()\n",
      "KeyboardInterrupt\n",
      "KeyboardInterrupt\n",
      "    racquire()\n",
      "KeyboardInterrupt\n",
      "    racquire()\n",
      "KeyboardInterrupt\n",
      "KeyboardInterrupt\n"
     ]
    }
   ],
   "source": [
    "res2 = Parallel(n_jobs=8, verbose=10, batch_size=5000)(delayed(sqrt)(i ** 2) for i in range(1000000))"
   ]
  },
  {
   "cell_type": "code",
   "execution_count": null,
   "metadata": {
    "collapsed": true
   },
   "outputs": [],
   "source": []
  }
 ],
 "metadata": {
  "kernelspec": {
   "display_name": "Python 2",
   "language": "python",
   "name": "python2"
  },
  "language_info": {
   "codemirror_mode": {
    "name": "ipython",
    "version": 2
   },
   "file_extension": ".py",
   "mimetype": "text/x-python",
   "name": "python",
   "nbconvert_exporter": "python",
   "pygments_lexer": "ipython2",
   "version": "2.7.14"
  }
 },
 "nbformat": 4,
 "nbformat_minor": 2
}
